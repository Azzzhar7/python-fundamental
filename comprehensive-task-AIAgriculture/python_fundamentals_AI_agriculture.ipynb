{
  "cells": [
    {
      "cell_type": "markdown",
      "metadata": {
        "id": "Trmr1zpPpyG8"
      },
      "source": [
        "# Scenario-Based Course Tasks: Python Fundamentals for AI in Agriculture\n",
        "\n",
        "## Scenario Background\n",
        "You are a beginner data scientist working with an agricultural research team. The team is collecting simple crop yield data from small farms to understand productivity trends and prepare for future AI-based automation. As part of the training, you will build small Python programs to simulate, process, analyze, and visualize agricultural data.  \n",
        "\n",
        "Each task builds on the previous one, gradually taking you from basic Python logic to applied data analysis and visualization.  \n",
        "\n",
        "---\n",
        "\n",
        "## Task 1: Fundamentals of Python (Logic & Data Representation)\n",
        "**Scenario:** The research team needs a simple program to record farmer details.  \n",
        "\n",
        "You are tasked to implement:  \n",
        "- A script that prints “Welcome to Crop Yield Analyzer”.  \n",
        "- Variables to store farmer’s name, farm size (in acres), and main crop.  \n",
        "- Demonstrate data types: integers, floats, strings, and booleans.  \n",
        "- Implement if-else: e.g., check if farm size > 10 acres → “Large farm”, else → “Small farm”.  \n",
        "- Implement loops to generate a sample list of crops: [“Wheat”, “Rice”, “Corn”].  \n",
        "\n",
        "**Learning outcome:** Data types, variables, conditionals, loops.  \n",
        "\n",
        "---\n",
        "\n",
        "## Task 2: Static Data Processing (Pre-Generated Dataset)\n",
        "**Scenario:** Researchers have collected static sample data of crop yields.  \n",
        "\n",
        "Your tasks:  \n",
        "- Store this dataset as a list of dictionaries or a list of tuples.  \n",
        "- Write Python code to:  \n",
        "  - Print all farmers growing Wheat.  \n",
        "  - Calculate total yield across all farmers.  \n",
        "  - Find the farmer with maximum yield.  \n",
        "\n",
        "**Learning outcome:** Lists, dictionaries, loops, basic aggregation.  \n",
        "\n",
        "**Sample dataset structure:**  \n",
        "```python\n",
        "data = [\n",
        "    {\"Farmer\": \"Farmer 1\", \"Crop\": \"Wheat\", \"Acres\": 5, \"Yield\": 12, \"Region\": \"North\"},\n",
        "    {\"Farmer\": \"Farmer 2\", \"Crop\": \"Rice\",  \"Acres\": 8, \"Yield\": 18, \"Region\": \"South\"},\n",
        "    {\"Farmer\": \"Farmer 3\", \"Crop\": \"Corn\",  \"Acres\": 4, \"Yield\": 9,  \"Region\": \"East\"},\n",
        "    {\"Farmer\": \"Farmer 4\", \"Crop\": \"Wheat\", \"Acres\": 6, \"Yield\": 14, \"Region\": \"West\"},\n",
        "]\n",
        "```\n",
        "\n",
        "---\n",
        "\n",
        "## Task 3: Data Analysis (Beginner Level)\n",
        "**Scenario:** Now the team wants basic analysis of the yield data.  \n",
        "\n",
        "You must:  \n",
        "- Implement functions to:  \n",
        "  - Calculate average yield per crop type.  \n",
        "  - Count how many farmers are in each region.  \n",
        "- Add exception handling: If data is missing (e.g., no yield for a farmer), handle it gracefully.  \n",
        "\n",
        "**Learning outcome:** Functions, error handling, reusable code.  \n",
        "\n",
        "---\n",
        "\n",
        "## Task 4: Statistical Analysis\n",
        "**Scenario:** Researchers want to know the statistical distribution of yields.  \n",
        "\n",
        "Use Python to calculate:  \n",
        "- Mean, Median, Mode of crop yields.  \n",
        "- Standard deviation to check variability.  \n",
        "- Correlation between acres vs yield.  \n",
        "\n",
        "**Sample Output Example:**  \n",
        "```\n",
        "Mean Yield = 13.25 tons\n",
        "Median Yield = 13 tons\n",
        "Standard Deviation = 3.5\n",
        "Correlation (Acres, Yield) = 0.89\n",
        "```  \n",
        "\n",
        "**Learning outcome:** Basic statistics in Python (statistics module, NumPy optional).  \n",
        "\n",
        "---\n",
        "\n",
        "## Task 5: Data Visualization (Graphs & Tables)\n",
        "**Scenario:** Present results visually for non-technical researchers.  \n",
        "\n",
        "Use Matplotlib / Pandas to:  \n",
        "- Create a bar chart: Average yield per crop.  \n",
        "- Create a pie chart: Percentage of farmers by region.  \n",
        "- Create a scatter plot: Acres vs Yield.  \n",
        "\n",
        "Also:  \n",
        "- Show results in a simple table format using Pandas DataFrame.  \n",
        "\n",
        "**Learning outcome:** Beginner data visualization, tables, clear presentation.  \n",
        "\n",
        "---\n",
        "\n",
        "## Extension (Optional Advanced Mini-Project)\n",
        "If students finish early:  \n",
        "- Predict expected yield for a farmer using a simple formula:  \n",
        "  `Predicted Yield = Acres × Average Yield per Acre (based on dataset)`  \n",
        "- Display results for each farmer.  \n",
        "\n",
        "---\n",
        "\n",
        "## Setup Your Environment\n",
        "- Install Python 3.9+  \n",
        "- Recommended tools:  \n",
        "  - Anaconda (comes with Jupyter Notebook & libraries pre-installed), or  \n",
        "  - Install manually: `pip install numpy pandas matplotlib`  \n",
        "- Use Jupyter Notebook, VS Code, or PyCharm to run your code.  \n",
        "\n",
        "---\n",
        "\n",
        "## How to Use\n",
        "- Copy this course task guide into a new file named:  \n",
        "  `python_fundamentals_AI_agriculture.ipynb`  \n",
        "- Upload to Google Colab or Jupyter Notebook.  \n",
        "- Run step by step (`Shift+Enter`).  \n"
      ]
    },
    {
      "cell_type": "code",
      "execution_count": 14,
      "metadata": {
        "id": "Y6Fw_qLHqE9e"
      },
      "outputs": [],
      "source": [
        "# ===============================================================\n",
        "# Scenario-Based Course Tasks: Python Fundamentals for AI in Agriculture\n",
        "# ===============================================================\n",
        "# SCENARIO BACKGROUND\n",
        "# You are a beginner data scientist working with an agricultural research team.\n",
        "# The team is collecting simple crop yield data from small farms to understand\n",
        "# productivity trends and prepare for future AI-based automation. As part of\n",
        "# the training, you will build small Python programs to simulate, process,\n",
        "# analyze, and visualize agricultural data.\n",
        "#\n",
        "# Each task builds on the previous one, gradually taking you from basic Python\n",
        "# logic to applied data analysis and visualization.\n",
        "\n",
        "# ---------------------------------------------------------------\n",
        "# STEP 1 — FUNDAMENTALS OF PYTHON (LOGIC & DATA REPRESENTATION)\n",
        "# ---------------------------------------------------------------\n",
        "# Scenario:\n",
        "# The research team needs a simple program to record farmer details.\n",
        "#\n",
        "# Implement:\n",
        "# 1) A script that prints \"Welcome to Crop Yield Analyzer\".\n",
        "# 2) Variables to store farmer’s name, farm size (in acres), and main crop.\n",
        "# 3) Demonstrate data types: integers, floats, strings, booleans.\n",
        "# 4) Implement if-else:\n",
        "#    - If farm size > 10 acres → print \"Large farm\", else → \"Small farm\".\n",
        "# 5) Implement loops to generate a sample list of crops: [\"Wheat\", \"Rice\", \"Corn\"].\n",
        "#\n",
        "# Learning outcome:\n",
        "# - Data types, variables, conditionals, and loops.\n",
        "\n",
        "# ---------------------------------------------------------------\n",
        "# STEP 2 — STATIC DATA PROCESSING (PRE-GENERATED DATASET)\n",
        "# ---------------------------------------------------------------\n",
        "# Scenario:\n",
        "# Researchers have collected static sample data of crop yields.\n",
        "#\n",
        "# Your tasks:\n",
        "# 1) Store this dataset as a list of dictionaries or a list of tuples.\n",
        "# 2) Write Python code to:\n",
        "#    a) Print all farmers growing \"Wheat\".\n",
        "#    b) Calculate total yield across all farmers.\n",
        "#    c) Find the farmer with maximum yield.\n",
        "#\n",
        "# Learning outcome:\n",
        "# - Lists, dictionaries, loops, and basic aggregation.\n",
        "#\n",
        "# Sample dataset structure (example, not executable here):\n",
        "# data = [\n",
        "#     {\"Farmer\": \"Farmer 1\", \"Crop\": \"Wheat\", \"Acres\": 5, \"Yield\": 12, \"Region\": \"North\"},\n",
        "#     {\"Farmer\": \"Farmer 2\", \"Crop\": \"Rice\",  \"Acres\": 8, \"Yield\": 18, \"Region\": \"South\"},\n",
        "#     {\"Farmer\": \"Farmer 3\", \"Crop\": \"Corn\",  \"Acres\": 4, \"Yield\": 9,  \"Region\": \"East\"},\n",
        "#     {\"Farmer\": \"Farmer 4\", \"Crop\": \"Wheat\", \"Acres\": 6, \"Yield\": 14, \"Region\": \"West\"},\n",
        "# ]\n",
        "\n",
        "# ---------------------------------------------------------------\n",
        "# STEP 3 — DATA ANALYSIS (BEGINNER LEVEL)\n",
        "# ---------------------------------------------------------------\n",
        "# Scenario:\n",
        "# The team now wants basic analysis of the yield data.\n",
        "#\n",
        "# Implement functions to:\n",
        "# 1) Calculate average yield per crop type.\n",
        "# 2) Count how many farmers are in each region.\n",
        "#\n",
        "# Add exception handling:\n",
        "# - If data is missing (e.g., missing \"Yield\" field), handle it gracefully\n",
        "#   by skipping the record or substituting a default value.\n",
        "#\n",
        "# Learning outcome:\n",
        "# - Functions, error handling, and writing reusable code.\n",
        "\n",
        "# ---------------------------------------------------------------\n",
        "# STEP 4 — STATISTICAL ANALYSIS\n",
        "# ---------------------------------------------------------------\n",
        "# Scenario:\n",
        "# Researchers want to know the statistical distribution of yields.\n",
        "#\n",
        "# Use Python to calculate:\n",
        "# 1) Mean, Median, Mode of crop yields.\n",
        "# 2) Standard deviation to check variability.\n",
        "# 3) Correlation between acres and yield.\n",
        "#\n",
        "# Sample output example (illustrative only):\n",
        "# - Mean Yield = 13.25 tons\n",
        "# - Median Yield = 13 tons\n",
        "# - Standard Deviation = 3.5\n",
        "# - Correlation (Acres, Yield) = 0.89\n",
        "#\n",
        "# Learning outcome:\n",
        "# - Basic statistics in Python (statistics module, NumPy optional).\n",
        "\n",
        "# ---------------------------------------------------------------\n",
        "# STEP 5 — DATA VISUALIZATION (GRAPHS & TABLES)\n",
        "# ---------------------------------------------------------------\n",
        "# Scenario:\n",
        "# Present results visually for non-technical researchers.\n",
        "#\n",
        "# Use Matplotlib / Pandas to:\n",
        "# 1) Create a bar chart: Average yield per crop.\n",
        "# 2) Create a pie chart: Percentage of farmers by region.\n",
        "# 3) Create a scatter plot: Acres vs. Yield.\n",
        "#\n",
        "# Also:\n",
        "# - Show results in a simple table format using a Pandas DataFrame.\n",
        "#\n",
        "# Learning outcome:\n",
        "# - Beginner data visualization, tabular display, and clear presentation.\n",
        "\n",
        "# ---------------------------------------------------------------\n",
        "# EXTENSION — OPTIONAL ADVANCED MINI-PROJECT\n",
        "# ---------------------------------------------------------------\n",
        "# If students finish early:\n",
        "# 1) Predict expected yield for a farmer using a simple formula:\n",
        "#    Predicted Yield = Acres × Average Yield per Acre (based on dataset).\n",
        "# 2) Display predicted results for each farmer.\n",
        "\n",
        "# ---------------------------------------------------------------\n",
        "# ENVIRONMENT SETUP (PREREQUISITES)\n",
        "# ---------------------------------------------------------------\n",
        "# 1) Install Python 3.9+.\n",
        "# 2) Recommended tools:\n",
        "#    - Anaconda (includes Jupyter Notebook and libraries), or\n",
        "#    - Install libraries manually:\n",
        "#        pip install numpy pandas matplotlib\n",
        "# 3) Use Jupyter Notebook, VS Code, or PyCharm to run your code.\n",
        "\n",
        "# ---------------------------------------------------------------\n",
        "# HOW TO USE (WORKFLOW)\n",
        "# ---------------------------------------------------------------\n",
        "# 1) Copy the code and tasks into a new notebook file named:\n",
        "#    python_fundamentals_AI_agriculture.ipynb\n",
        "# 2) Upload the notebook to Google Colab or open locally in Jupyter.\n",
        "# 3) Run step by step (Shift+Enter), completing each step’s requirements\n",
        "#    before moving to the next.\n"
      ]
    },
    {
      "cell_type": "code",
      "execution_count": 15,
      "metadata": {
        "id": "Jl7dVkDongpb"
      },
      "outputs": [],
      "source": [
        "# ============================================================\n",
        "# Step 0: Setup Environment\n",
        "# ============================================================\n",
        "\n",
        "# Install required libraries (uncomment if running locally, not needed in Colab)\n",
        "# !pip install numpy pandas matplotlib\n",
        "\n",
        "import statistics as stats\n",
        "import pandas as pd\n",
        "import matplotlib.pyplot as plt\n"
      ]
    },
    {
      "cell_type": "code",
      "execution_count": 16,
      "metadata": {
        "colab": {
          "base_uri": "https://localhost:8080/"
        },
        "id": "5k_v_JG-nwll",
        "outputId": "c08da159-d2b2-46ad-95d6-e75049e41d7b"
      },
      "outputs": [
        {
          "name": "stdout",
          "output_type": "stream",
          "text": [
            "Welcome to Crop Yield Analyzer\n",
            "Large farm\n",
            "Crop: Wheat\n",
            "Crop: Rice\n",
            "Crop: Corn\n"
          ]
        }
      ],
      "source": [
        "# ============================================================\n",
        "# Step 1: Fundamentals of Python (Variables, Logic, Loops)\n",
        "# ============================================================\n",
        "\n",
        "# Print a welcome message\n",
        "print(\"Welcome to Crop Yield Analyzer\")\n",
        "\n",
        "# Define variables\n",
        "farmer_name = \"Farmer 1\"\n",
        "farm_size = 12\n",
        "crop = \"Wheat\"\n",
        "\n",
        "# Conditional check for farm size\n",
        "if farm_size > 10:\n",
        "    print(\"Large farm\")\n",
        "else:\n",
        "    print(\"Small farm\")\n",
        "\n",
        "# Loop through crops list\n",
        "crops = [\"Wheat\", \"Rice\", \"Corn\"]\n",
        "for c in crops:\n",
        "    print(\"Crop:\", c)\n"
      ]
    },
    {
      "cell_type": "code",
      "execution_count": 17,
      "metadata": {
        "colab": {
          "base_uri": "https://localhost:8080/"
        },
        "id": "P6DKjM6wnzkc",
        "outputId": "528baf2b-c572-4682-af01-fe0b7dc23956"
      },
      "outputs": [
        {
          "name": "stdout",
          "output_type": "stream",
          "text": [
            "\n",
            "Farmers growing Wheat:\n",
            "Farmer 1\n",
            "Farmer 4\n",
            "\n",
            "Total Yield: 53\n",
            "Top Farmer: Farmer 2 with 18 tons\n"
          ]
        }
      ],
      "source": [
        "# ============================================================\n",
        "# Step 2: Static Data Processing (Pre-generated dataset)\n",
        "# ============================================================\n",
        "\n",
        "# Define dataset as a list of dictionaries\n",
        "data = [\n",
        "    {\"Farmer\": \"Farmer 1\", \"Crop\": \"Wheat\", \"Acres\": 5, \"Yield\": 12, \"Region\": \"North\"},\n",
        "    {\"Farmer\": \"Farmer 2\", \"Crop\": \"Rice\", \"Acres\": 8, \"Yield\": 18, \"Region\": \"South\"},\n",
        "    {\"Farmer\": \"Farmer 3\", \"Crop\": \"Corn\", \"Acres\": 4, \"Yield\": 9, \"Region\": \"East\"},\n",
        "    {\"Farmer\": \"Farmer 4\", \"Crop\": \"Wheat\", \"Acres\": 6, \"Yield\": 14, \"Region\": \"West\"},\n",
        "]\n",
        "\n",
        "# Print all wheat farmers\n",
        "print(\"\\nFarmers growing Wheat:\")\n",
        "for record in data:\n",
        "    if record[\"Crop\"] == \"Wheat\":\n",
        "        print(record[\"Farmer\"])\n",
        "\n",
        "# Calculate total yield\n",
        "total_yield = sum([record[\"Yield\"] for record in data])\n",
        "print(\"\\nTotal Yield:\", total_yield)\n",
        "\n",
        "# Find farmer with maximum yield\n",
        "max_farmer = max(data, key=lambda x: x[\"Yield\"])\n",
        "print(\"Top Farmer:\", max_farmer[\"Farmer\"], \"with\", max_farmer[\"Yield\"], \"tons\")\n"
      ]
    },
    {
      "cell_type": "code",
      "execution_count": 18,
      "metadata": {
        "colab": {
          "base_uri": "https://localhost:8080/"
        },
        "id": "_VIklPtFn1uy",
        "outputId": "e093f347-2b70-45ae-a640-49d838662184"
      },
      "outputs": [
        {
          "name": "stdout",
          "output_type": "stream",
          "text": [
            "\n",
            "Average Total Yield: 13.25\n",
            "\n",
            "Average Wheat Yield: 13.0\n",
            "Farmers by Region: {'North': 1, 'South': 1, 'East': 1, 'West': 1}\n"
          ]
        }
      ],
      "source": [
        "# ============================================================\n",
        "# Step 3: Data Analysis with Functions\n",
        "# ============================================================\n",
        "\n",
        "# Function to calculate average yield for a crop\n",
        "\n",
        "\n",
        "# Function to calculate average yield for a crop\n",
        "def average_total_yield():\n",
        "    values = [r[\"Yield\"] for r in data]\n",
        "    return sum(values) / len(values) if values else 0\n",
        "\n",
        "def average_yield(crop):\n",
        "    values = [r[\"Yield\"] for r in data if r[\"Crop\"] == crop]\n",
        "    return sum(values) / len(values) if values else 0\n",
        "\n",
        "# Function to count farmers by region\n",
        "def count_by_region():\n",
        "    regions = {}\n",
        "    for r in data:\n",
        "        regions[r[\"Region\"]] = regions.get(r[\"Region\"], 0) + 1\n",
        "    return regions\n",
        "\n",
        "# Call functions\n",
        "print(\"\\nAverage Total Yield:\", average_total_yield())\n",
        "print(\"\\nAverage Wheat Yield:\", average_yield(\"Wheat\"))\n",
        "print(\"Farmers by Region:\", count_by_region())\n"
      ]
    },
    {
      "cell_type": "code",
      "execution_count": 19,
      "metadata": {
        "colab": {
          "base_uri": "https://localhost:8080/"
        },
        "id": "vgNWPhc2n3un",
        "outputId": "1b6b44ad-884f-4a67-d72b-aa77b65dd496"
      },
      "outputs": [
        {
          "name": "stdout",
          "output_type": "stream",
          "text": [
            "\n",
            "Statistical Analysis:\n",
            "Mean Yield = 13.25\n",
            "Median Yield = 13.0\n",
            "Standard Deviation = 3.774917217635375\n",
            "Correlation (Acres vs Yield) = 1.0\n"
          ]
        }
      ],
      "source": [
        "# ============================================================\n",
        "# Step 4: Statistical Analysis\n",
        "# ============================================================\n",
        "\n",
        "# Extract values\n",
        "yields = [r[\"Yield\"] for r in data]\n",
        "acres = [r[\"Acres\"] for r in data]\n",
        "\n",
        "# Compute mean, median, standard deviation\n",
        "print(\"\\nStatistical Analysis:\")\n",
        "print(\"Mean Yield =\", stats.mean(yields))\n",
        "print(\"Median Yield =\", stats.median(yields))\n",
        "print(\"Standard Deviation =\", stats.stdev(yields))\n",
        "\n",
        "# Compute correlation (Acres vs Yield) manually\n",
        "mean_acres = stats.mean(acres)\n",
        "mean_yields = stats.mean(yields)\n",
        "\n",
        "covariance = sum((a - mean_acres) * (y - mean_yields) for a, y in zip(acres, yields)) / (len(acres) - 1)\n",
        "variance_acres = sum((a - mean_acres) ** 2 for a in acres) / (len(acres) - 1)\n",
        "variance_yields = sum((y - mean_yields) ** 2 for y in yields) / (len(yields) - 1)\n",
        "correlation = covariance / (variance_acres ** 0.5 * variance_yields ** 0.5)\n",
        "\n",
        "print(\"Correlation (Acres vs Yield) =\", round(correlation, 2))\n"
      ]
    },
    {
      "cell_type": "code",
      "execution_count": 20,
      "metadata": {
        "colab": {
          "base_uri": "https://localhost:8080/",
          "height": 1000
        },
        "id": "Qv3gRz89n5gd",
        "outputId": "5c535688-fdab-466a-ed96-8411889885f1"
      },
      "outputs": [
        {
          "data": {
            "image/png": "[encoded data removed]",
            "text/plain": [
              "<Figure size 640x480 with 1 Axes>"
            ]
          },
          "metadata": {},
          "output_type": "display_data"
        },
        {
          "data": {
            "image/png": "[encoded data removed]",
            "text/plain": [
              "<Figure size 640x480 with 1 Axes>"
            ]
          },
          "metadata": {},
          "output_type": "display_data"
        },
        {
          "data": {
            "image/png": "[encoded data removed]",
            "text/plain": [
              "<Figure size 640x480 with 1 Axes>"
            ]
          },
          "metadata": {},
          "output_type": "display_data"
        },
        {
          "name": "stdout",
          "output_type": "stream",
          "text": [
            "\n",
            "Data Table:\n",
            "     Farmer   Crop  Acres  Yield Region\n",
            "0  Farmer 1  Wheat      5     12  North\n",
            "1  Farmer 2   Rice      8     18  South\n",
            "2  Farmer 3   Corn      4      9   East\n",
            "3  Farmer 4  Wheat      6     14   West\n"
          ]
        }
      ],
      "source": [
        "# ============================================================\n",
        "# Step 5: Data Visualization\n",
        "# ============================================================\n",
        "\n",
        "# Convert dataset to pandas DataFrame\n",
        "df = pd.DataFrame(data)\n",
        "\n",
        "# Bar chart: Average yield per crop\n",
        "df.groupby(\"Crop\")[\"Yield\"].mean().plot(kind=\"bar\", title=\"Average Yield per Crop\")\n",
        "plt.ylabel(\"Yield (tons)\")\n",
        "plt.show()\n",
        "\n",
        "# Pie chart: Farmers by region\n",
        "df[\"Region\"].value_counts().plot(kind=\"pie\", autopct=\"%1.1f%%\", title=\"Farmers by Region\")\n",
        "plt.ylabel(\"\")  # Hide y-label\n",
        "plt.show()\n",
        "\n",
        "# Scatter plot: Acres vs Yield\n",
        "plt.scatter(df[\"Acres\"], df[\"Yield\"])\n",
        "plt.xlabel(\"Acres\")\n",
        "plt.ylabel(\"Yield (tons)\")\n",
        "plt.title(\"Acres vs Yield\")\n",
        "plt.show()\n",
        "\n",
        "# Display DataFrame as table\n",
        "print(\"\\nData Table:\")\n",
        "print(df)\n"
      ]
    },
    {
      "cell_type": "code",
      "execution_count": 21,
      "metadata": {
        "colab": {
          "base_uri": "https://localhost:8080/"
        },
        "id": "0qXcwJZbn7VE",
        "outputId": "c401f27a-14e9-4eee-dc7b-b95ac528de38"
      },
      "outputs": [
        {
          "name": "stdout",
          "output_type": "stream",
          "text": [
            "\n",
            "Table with Predicted Yields:\n",
            "     Farmer   Crop  Acres  Predicted_Yield\n",
            "0  Farmer 1  Wheat      5        11.521739\n",
            "1  Farmer 2   Rice      8        18.434783\n",
            "2  Farmer 3   Corn      4         9.217391\n",
            "3  Farmer 4  Wheat      6        13.826087\n"
          ]
        }
      ],
      "source": [
        "# ============================================================\n",
        "# Step 6: Optional Mini Project - Yield Prediction\n",
        "# ============================================================\n",
        "\n",
        "# Calculate average yield per acre\n",
        "avg_yield_per_acre = sum(df[\"Yield\"]) / sum(df[\"Acres\"])\n",
        "\n",
        "# Add predicted yield column\n",
        "df[\"Predicted_Yield\"] = df[\"Acres\"] * avg_yield_per_acre\n",
        "\n",
        "print(\"\\nTable with Predicted Yields:\")\n",
        "print(df[[\"Farmer\", \"Crop\", \"Acres\", \"Predicted_Yield\"]])\n"
      ]
    }
  ],
  "metadata": {
    "colab": {
      "provenance": []
    },
    "kernelspec": {
      "display_name": "base",
      "language": "python",
      "name": "python3"
    },
    "language_info": {
      "codemirror_mode": {
        "name": "ipython",
        "version": 3
      },
      "file_extension": ".py",
      "mimetype": "text/x-python",
      "name": "python",
      "nbconvert_exporter": "python",
      "pygments_lexer": "ipython3",
      "version": "3.12.7"
    }
  },
  "nbformat": 4,
  "nbformat_minor": 0
}
